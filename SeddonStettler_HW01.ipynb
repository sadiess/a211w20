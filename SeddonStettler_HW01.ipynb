{
 "cells": [
  {
   "cell_type": "markdown",
   "metadata": {},
   "source": [
    "# ASTR 211 - HW01 - Sadie Seddon-Stettler"
   ]
  },
  {
   "cell_type": "markdown",
   "metadata": {},
   "source": [
    "## Task 1a"
   ]
  },
  {
   "cell_type": "code",
   "execution_count": 1,
   "metadata": {},
   "outputs": [],
   "source": [
    "import numpy as np\n",
    "import math\n",
    "from codes import plot_utils as pu"
   ]
  },
  {
   "cell_type": "code",
   "execution_count": 2,
   "metadata": {},
   "outputs": [],
   "source": [
    "def T(function, a, b, h, *args):\n",
    "    \"\"\"\n",
    "    numerical integration via trapezoidal method\n",
    "    \n",
    "    Inputs:\n",
    "    -----------\n",
    "    function: python function object - function to integrate\n",
    "    a, b: floats - integration interval\n",
    "    h: float - step size to use\n",
    "    *args: pointer to argument list to pass to function\n",
    "    \n",
    "    Returns:\n",
    "    --------\n",
    "    area: float - value of the integral estimated using trapezoidal integration    \n",
    "    \"\"\"\n",
    "    N = int((b - a) // h)\n",
    "    trapezoids = function(np.linspace(a, b, num=N+1), *args)\n",
    "    area = h*(np.sum(trapezoids) - (0.5*(function(a, *args) + function(b, *args))))\n",
    "    \n",
    "    return area"
   ]
  },
  {
   "cell_type": "code",
   "execution_count": 3,
   "metadata": {},
   "outputs": [],
   "source": [
    "def R(function, a, b, h, *args):\n",
    "    \"\"\"\n",
    "    numerical integration via Romberg method\n",
    "    \n",
    "    Inputs:\n",
    "    -----------\n",
    "    function: python function object - function to integrate\n",
    "    a, b: floats - integration interval\n",
    "    h: float - step size to use\n",
    "    *args: pointer to argument list to pass to function\n",
    "    \n",
    "    Returns:\n",
    "    --------\n",
    "    are: float - value of the integral estimated using trapezoidal integration    \n",
    "    \"\"\"\n",
    "    points = np.arange(a+(h/2), b, h)\n",
    "    summation = np.sum(function(points, *args))\n",
    "    area = (1/3) * (T(function, a, b, h, *args) + (2 * h * summation))\n",
    "                    \n",
    "    return area"
   ]
  },
  {
   "cell_type": "code",
   "execution_count": 4,
   "metadata": {},
   "outputs": [],
   "source": [
    "# a brief note on the summation in the Romberg integral:\n",
    "# for ease of coding, we translate the summation to summing over a list of points rather than i values.\n",
    "# to do this, we plug in the lower and upper bounds of i = 1 and i = 2^(k-1) respectively.\n",
    "# this translates to upper bounds of a + (h/2) and b - (h/2) respectively.\n",
    "# however, numpy.arange is exclusive, and we operate in step sizes of h.\n",
    "# therefore, to ensure that b - (h/2) is included in the sum, we pass the upper bound of b to our np.arange function.\n",
    "# our step size for arange is then h - since we sum over points, our step size matches, well, our step size."
   ]
  },
  {
   "cell_type": "code",
   "execution_count": 5,
   "metadata": {},
   "outputs": [],
   "source": [
    "def ex(x):\n",
    "    \"\"\"\n",
    "    test function to check accuracy. e to the x\n",
    "    \n",
    "    Inputs:\n",
    "    -----------\n",
    "    x: float - power to raise x to\n",
    "    \n",
    "    Returns:\n",
    "    --------\n",
    "    float - e raised to the x power  \n",
    "    \"\"\"\n",
    "    return math.e**x\n",
    "\n",
    "direct = np.e - 1 # exact value of integral of e to the x from 0 to 1, for comparison"
   ]
  },
  {
   "cell_type": "code",
   "execution_count": 6,
   "metadata": {},
   "outputs": [
    {
     "name": "stdout",
     "output_type": "stream",
     "text": [
      "directly calculated integral: 1.718281828459045\n",
      "trapezoidal integration: 1.720518592164302\n",
      "Romberg integration: 1.718281974051892\n"
     ]
    }
   ],
   "source": [
    "print(\"directly calculated integral:\", direct)\n",
    "print(\"trapezoidal integration:\", T(ex, 0, 1, 0.125))\n",
    "print(\"Romberg integration:\", R(ex, 0, 1, 0.125))"
   ]
  },
  {
   "cell_type": "code",
   "execution_count": 7,
   "metadata": {},
   "outputs": [],
   "source": [
    "def fract_error(funct, a, b, ns, *args):\n",
    "    \"\"\"\n",
    "    calculate fractional error for a range of h values\n",
    "    \n",
    "    Inputs:\n",
    "    -----------\n",
    "    funct: python function object - function being integrated\n",
    "    a, b: floats - integration interval\n",
    "    ns: int - determines range of h values to be calculated over\n",
    "    *args - pointer to argument list to pass to funct\n",
    "    \n",
    "    Returns:\n",
    "    -----------\n",
    "    ferror: ndarray of floats representing the fractional error of the integral when compared to the exact value\n",
    "    hsteps: ndarray of floats representing the step sizes\n",
    "    \"\"\"\n",
    "    nsteps = np.arange(ns)\n",
    "    rint = np.zeros(np.shape(nsteps)[0])\n",
    "    \n",
    "    bma = b - a\n",
    "    hsteps = bma / np.power(2., nsteps)\n",
    "    \n",
    "    for i, ns in enumerate(nsteps):\n",
    "        rint[i] = R(funct, a, b, hsteps[i], *args)\n",
    "        \n",
    "    ferror = np.abs(1 - (rint / direct))\n",
    "    \n",
    "    for i, error in enumerate(ferror):\n",
    "        if error == 0:\n",
    "            ferror[i] = 1 * (10 ** -16)\n",
    "    \n",
    "    return ferror, hsteps"
   ]
  },
  {
   "cell_type": "code",
   "execution_count": 8,
   "metadata": {},
   "outputs": [],
   "source": [
    "ferr, hsteps = fract_error(ex, 0, 1, 15) #calculate fractional error and hsteps for a test function\n",
    "ferr_model = ferr[0] * ((hsteps/hsteps[0]) ** 4) #scaling proportional to h^4 is the goal"
   ]
  },
  {
   "cell_type": "code",
   "execution_count": 9,
   "metadata": {},
   "outputs": [
    {
     "data": {
      "image/png": "[encoded data removed]",
      "text/plain": [
       "<Figure size 360x360 with 1 Axes>"
      ]
     },
     "metadata": {
      "needs_background": "light"
     },
     "output_type": "display_data"
    }
   ],
   "source": [
    "pu.plot_line_points(np.log10(hsteps), np.log10(ferr_model), \n",
    "                 xlabel=r'$\\log_{10}\\,\\rm step\\ size$', ylabel = r'$\\log_{10}\\vert\\rm fractional\\ error\\vert$',\n",
    "                 xp=np.log10(hsteps), yp=np.log10(ferr), points=True, \n",
    "                 legend=r'${\\rm scaling} \\propto h^4$', plegend = r'$\\rm measured\\ error$',\n",
    "                 legendloc = 'lower right', \n",
    "                 plot_title=r'$R_1\\ \\rm frac.\\ error\\ scaling\\ with\\ step\\ size$',\n",
    "                 grid=True, figsize=5)"
   ]
  },
  {
   "cell_type": "code",
   "execution_count": 10,
   "metadata": {},
   "outputs": [],
   "source": [
    "# note: we do plateu eventually, but given that the plateau is at ferror ~ e-16, this is our expected\n",
    "# plateu at machine tolerance of error close enough to 0."
   ]
  },
  {
   "cell_type": "markdown",
   "metadata": {},
   "source": [
    "## Task 1b"
   ]
  },
  {
   "cell_type": "code",
   "execution_count": 11,
   "metadata": {},
   "outputs": [],
   "source": [
    "def find_h(function, a, b, atol=None, rtol=None):\n",
    "    \"\"\"\n",
    "    finds the step size to give an integral with accuracy below or equal to a given tolerance (either exact or relative)\n",
    "    \n",
    "    Inputs:\n",
    "    -----------\n",
    "    function: python function object - function being integrated\n",
    "    a, b: floats - integration interval\n",
    "    atol, rtol: floats - target tolerance\n",
    "    \n",
    "    Returns:\n",
    "    -----------\n",
    "    h: float - the step size that produces accuracy at or below the tolerance\n",
    "    \"\"\"\n",
    "    h = abs((a - b))\n",
    "    if atol:\n",
    "        error = atol + 1\n",
    "        while error > atol:\n",
    "            h = h / 2\n",
    "            error = np.abs(R(function, a, b, h) - T(function, a, b, h))\n",
    "        return h\n",
    "    elif rtol:\n",
    "        error = rtol + 1\n",
    "        while error > rtol:\n",
    "            h = h / 2\n",
    "            error = np.abs(1 - (T(function, a, b, h) / R(function, a, b, h)))\n",
    "        return h\n",
    "    else:\n",
    "        print(\"please provide a target tolerance!\")"
   ]
  },
  {
   "cell_type": "code",
   "execution_count": 12,
   "metadata": {},
   "outputs": [
    {
     "name": "stdout",
     "output_type": "stream",
     "text": [
      "6.661338147750939e-16\n"
     ]
    }
   ],
   "source": [
    "# now, test our function by seeing if we can beat a tolerance on the order of 10e-15\n",
    "\n",
    "test_h = find_h(ex, 0, 1, rtol=(10 ** -15))\n",
    "fract_err = np.abs(1 - (R(ex, 0, 1, test_h) / direct))\n",
    "print(fract_err)"
   ]
  },
  {
   "cell_type": "code",
   "execution_count": 13,
   "metadata": {},
   "outputs": [],
   "source": [
    "# since e-16 < e-15, we've suceeded!"
   ]
  },
  {
   "cell_type": "markdown",
   "metadata": {},
   "source": [
    "## Task 1c"
   ]
  },
  {
   "cell_type": "code",
   "execution_count": 14,
   "metadata": {},
   "outputs": [],
   "source": [
    "def _E_z_1(z, H0, Om0, OmL):\n",
    "    \"\"\"\n",
    "    helper function to compute 1/E(z) for the dc integral\n",
    "    \n",
    "    Inputs:\n",
    "    -----------\n",
    "    z: float - redshift to which to compute d_L\n",
    "    H0: float - Hubble constant in units of km/s/Mpc\n",
    "    Om0: float - dimensionless mean matter density in the universe, >= 0\n",
    "    OmL: float - dimensionless mean vacuum energy density in the universe\n",
    "    \n",
    "    Returns:\n",
    "    -----------\n",
    "    float - value of 1/E(z)\n",
    "    \"\"\"\n",
    "    Omk = 1 - Om0 - OmL\n",
    "    z1 = 1.0 + z\n",
    "    return 1 / np.sqrt((Om0 * (z1 ** 3)) + (Omk * (z1 ** 2)) + OmL)"
   ]
  },
  {
   "cell_type": "code",
   "execution_count": 15,
   "metadata": {},
   "outputs": [],
   "source": [
    "def _d_c(z1, z2, h, *args):\n",
    "    \"\"\"\n",
    "    helper function to compute the dc integral via Romberg numerical integration method\n",
    "    \n",
    "    Inputs:\n",
    "    -----------\n",
    "    z1, z2: floats - bounds of integration\n",
    "    h: float - step size to use when computing integral\n",
    "    *args - pointer to argument list to pass to _E_z_1\n",
    "    \n",
    "    Returns:\n",
    "    -----------\n",
    "    float - dc integral\n",
    "    \"\"\"\n",
    "    return R(_E_z_1, z1, z2, h, *args)"
   ]
  },
  {
   "cell_type": "code",
   "execution_count": 16,
   "metadata": {},
   "outputs": [],
   "source": [
    "def d_L(z, H0, Om0, OmL, h):\n",
    "    \"\"\"\n",
    "    routine computing luminosity distance from z=0 to z \n",
    "    using helper function for comoving distance _dc and Romberg integration method\n",
    "    \n",
    "    Parameters:\n",
    "    -----------\n",
    "    z: float - redshift to which to compute d_L\n",
    "    H0: float - Hubble constant in units of km/s/Mpc\n",
    "    Om0: float - dimensionless mean matter density in the universe, >= 0\n",
    "    OmL: float - dimensionless mean vacuum energy density in the universe\n",
    "    h: float - step size to use\n",
    "     \n",
    "    Returns:\n",
    "    --------\n",
    "    dL: float - value of d_L(z, H0, Om0, OmL) estimated using Romberg integration with step size h\n",
    "    \"\"\"\n",
    "    c = 2.99792458e5\n",
    "    const1 = (c / H0) * (1 + z)\n",
    "    args = [H0, Om0, OmL]\n",
    "    Omk = 1- Om0 - OmL\n",
    "    dc = _d_c(0., z, h, *args)\n",
    "    const2 = np.sqrt(np.abs(Omk))\n",
    "    \n",
    "    if Omk > 0.:\n",
    "        dL = const1 * (1 / const2) * np.sinh(const2 * dc)\n",
    "    elif Omk == 0.:\n",
    "        dL = const1 * dc\n",
    "    elif Omk < 0.:\n",
    "        dL = const1 * (1 / const2) * np.sin(const2 * dc)\n",
    "        \n",
    "    return dL"
   ]
  },
  {
   "cell_type": "code",
   "execution_count": 17,
   "metadata": {},
   "outputs": [],
   "source": [
    "# test our dL method with some test parameters\n",
    "\n",
    "H0, Om0, OmL = 70., 0.3, 0.7;\n",
    "z = 2.0\n",
    "\n",
    "h = 1.e-6\n",
    "\n",
    "dL_romb = d_L(z, H0, Om0, OmL, h)"
   ]
  },
  {
   "cell_type": "code",
   "execution_count": 18,
   "metadata": {},
   "outputs": [
    {
     "name": "stdout",
     "output_type": "stream",
     "text": [
      "d_L(z=2.00, Om0=0.30, OmL=0.70, H0=70.0) = 1.554e+04 Mpc\n"
     ]
    }
   ],
   "source": [
    "print(\"d_L(z=%.2f, Om0=%.2f, OmL=%.2f, H0=%.1f) = %.4g Mpc\"%(z, Om0, OmL, H0, dL_romb))"
   ]
  }
 ],
 "metadata": {
  "kernelspec": {
   "display_name": "Python 3",
   "language": "python",
   "name": "python3"
  },
  "language_info": {
   "codemirror_mode": {
    "name": "ipython",
    "version": 3
   },
   "file_extension": ".py",
   "mimetype": "text/x-python",
   "name": "python",
   "nbconvert_exporter": "python",
   "pygments_lexer": "ipython3",
   "version": "3.7.4"
  }
 },
 "nbformat": 4,
 "nbformat_minor": 2
}
