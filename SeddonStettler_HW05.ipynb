{
 "cells": [
  {
   "cell_type": "markdown",
   "metadata": {},
   "source": [
    "# ASTR 211 - HW05 - Sadie Seddon-Stettler"
   ]
  },
  {
   "cell_type": "code",
   "execution_count": 1,
   "metadata": {},
   "outputs": [],
   "source": [
    "import numpy as np\n",
    "\n",
    "import matplotlib.pyplot as plt\n",
    "%matplotlib inline\n",
    "\n",
    "from codes.cosmology import d_L_vectorized\n",
    "from codes.constants import clight\n",
    "from codes.plot_utils import plot_pretty\n",
    "plot_pretty(fontsize=12)\n",
    "\n",
    "from scipy.special import gamma\n",
    "from scipy.interpolate import RectBivariateSpline\n",
    "from scipy.optimize import minimize, differential_evolution\n",
    "\n",
    "from timeit import default_timer"
   ]
  },
  {
   "cell_type": "code",
   "execution_count": 2,
   "metadata": {},
   "outputs": [
    {
     "name": "stdout",
     "output_type": "stream",
     "text": [
      "read sample of 740 supernovae...\n"
     ]
    }
   ],
   "source": [
    "zCMB, mB, emB, x1, ex1, csn, ecsn = np.loadtxt('data/jla_lcparams.txt', \n",
    "                                               usecols=(1, 4, 5, 6, 7, 8, 9), unpack=True)\n",
    "\n",
    "print(\"read sample of %d supernovae...\"%(np.size(zCMB)))"
   ]
  },
  {
   "cell_type": "markdown",
   "metadata": {},
   "source": [
    "## Task 1a"
   ]
  },
  {
   "cell_type": "code",
   "execution_count": 3,
   "metadata": {},
   "outputs": [
    {
     "name": "stdout",
     "output_type": "stream",
     "text": [
      "finished in 13.8 sec\n"
     ]
    }
   ],
   "source": [
    "Om0min, Om0max = 0., 1.\n",
    "OmLmin, OmLmax = 0., 1.\n",
    "\n",
    "nOm0 = 13; nOmL = 9\n",
    "Om0tr = Om0min + (Om0max-Om0min) * np.linspace(0.,1.,nOm0)**2 # square-law \n",
    "OmLtr = OmLmin + (OmLmax-OmLmin) * (1.- np.linspace(0.,1.,nOmL)**1.75)\n",
    "# the values of OmLtr are in descending order, so reverse the order before use\n",
    "OmLtr = OmLtr[::-1]\n",
    "\n",
    "nSN = np.size(zCMB)\n",
    "\n",
    "dLgrid = np.zeros((nSN, nOm0, nOmL))\n",
    "H0 = 70.\n",
    "H0c = H0 / clight\n",
    "\n",
    "tstart = default_timer()\n",
    "atol = 5.e-16; rtol = 5e-16\n",
    "for i, Omd in enumerate(Om0tr):\n",
    "    for j, Omld in enumerate(OmLtr):\n",
    "        # cancel the c/H0 factor to tabulate d_L without it\n",
    "        dLgrid[:,i,j] = H0c * d_L_vectorized(zCMB, H0, Omd, Omld, atol=atol, rtol=rtol)\n",
    "\n",
    "print(\"finished in %.3g sec\"%(default_timer()-tstart))"
   ]
  },
  {
   "cell_type": "code",
   "execution_count": 4,
   "metadata": {},
   "outputs": [
    {
     "name": "stdout",
     "output_type": "stream",
     "text": [
      "finished in 0.0309 sec\n"
     ]
    }
   ],
   "source": [
    "dLz = []\n",
    "tstart = default_timer()\n",
    "for iz, zi in enumerate(zCMB):\n",
    "    #construct approximation for tilde(d)_L(z_i, Om0, OmL)\n",
    "    spl2d = RectBivariateSpline(Om0tr, OmLtr, dLgrid[iz], s=0, kx=3, ky=3)\n",
    "    dLz.append(spl2d)\n",
    "\n",
    "print(\"finished in %.3g sec\"%(default_timer()-tstart))\n",
    "dLz = np.asarray(dLz)"
   ]
  },
  {
   "cell_type": "code",
   "execution_count": 5,
   "metadata": {},
   "outputs": [],
   "source": [
    "def chi2(x):\n",
    "    mu_model = np.zeros(nSN)\n",
    "    for i in range(nSN): \n",
    "        mu_model[i] = 5.*np.log10(dLz[i](x[0], x[1])) \n",
    "\n",
    "    delta_mu_2 = (mB - (mu_model + x[2]) + x[3]*x1 - x[4]*csn)**2\n",
    "    sig_2 = (emB**2) + (x[3]**2)*(ex1**2) + (x[4]**2)*(ecsn**2)\n",
    "    return np.sum(delta_mu_2/sig_2)"
   ]
  },
  {
   "cell_type": "code",
   "execution_count": 6,
   "metadata": {},
   "outputs": [],
   "source": [
    "def ln_L(x):\n",
    "    chi_2 = chi2(x)\n",
    "    sig_2 = (emB**2) + (x[3]**2)*(ex1**2) + (x[4]**2)*(ecsn**2)\n",
    "    ln = np.sum(np.log(2*np.pi*sig_2))\n",
    "    return (-1/2)*(chi_2 + ln)"
   ]
  },
  {
   "cell_type": "code",
   "execution_count": 7,
   "metadata": {},
   "outputs": [],
   "source": [
    "def neg_2_lnL(x):\n",
    "    return -2*ln_L(x)"
   ]
  },
  {
   "cell_type": "markdown",
   "metadata": {},
   "source": [
    "## Task 1b"
   ]
  },
  {
   "cell_type": "code",
   "execution_count": 8,
   "metadata": {},
   "outputs": [
    {
     "name": "stdout",
     "output_type": "stream",
     "text": [
      "completed in 6.1 sec\n",
      "minimum at : [ 0.25752449  0.63501484 24.07862574  0.11942898  2.57934963]\n",
      "-2lnL min = 3.3830e+02\n"
     ]
    }
   ],
   "source": [
    "tstart = default_timer()\n",
    "b = [(0, 1), (0, 1), (20, 28), (0.05, 0.3), (1., 5.)]\n",
    "res = differential_evolution(neg_2_lnL, bounds=b)\n",
    "print(\"completed in %.3g sec\"%(default_timer() - tstart))\n",
    "print(\"minimum at :\",res.x)\n",
    "\n",
    "ln_Lmin = ln_L(res.x)\n",
    "print(\"-2lnL min = %.4e\"%ln_Lmin)"
   ]
  },
  {
   "cell_type": "markdown",
   "metadata": {},
   "source": [
    "Previously, our derived value for Omega0 was 0.394, and our tM0 value was 24.1. These are both very similar to the new values (of 0.257 and 24.07 respectively). However, our new Omega0 is 0.635, quite different from our previously derived value of 0.363."
   ]
  },
  {
   "cell_type": "markdown",
   "metadata": {},
   "source": [
    "## Task 1c"
   ]
  },
  {
   "cell_type": "code",
   "execution_count": 9,
   "metadata": {},
   "outputs": [
    {
     "name": "stdout",
     "output_type": "stream",
     "text": [
      "reduced chi2 = 0.9316979440494364\n"
     ]
    }
   ],
   "source": [
    "x = [0.25752049, 0.63500829, 24.07862607, 0.11942735, 2.57935899]\n",
    "red_chi2 = chi2(x) / (nSN - 3)\n",
    "print(\"reduced chi2 =\", red_chi2)"
   ]
  },
  {
   "cell_type": "markdown",
   "metadata": {},
   "source": [
    "Since this $chi^2$ value is very close to 1, this suggests that our model describes the supernova measurements well - almost to the point of overfitting (if it were below 0.8, I would start to worry about overfitting), but not there. The $chi^2$ value of our previous model was around 6, so this suggests that the 5-parameter model describes the measurements much better than the 3-parameter model."
   ]
  },
  {
   "cell_type": "markdown",
   "metadata": {},
   "source": [
    "## Task 1d"
   ]
  },
  {
   "cell_type": "code",
   "execution_count": 10,
   "metadata": {},
   "outputs": [],
   "source": [
    "normfact = 0.5 / np.pi\n",
    "\n",
    "def prior(xd):\n",
    "    \"\"\"\n",
    "    defines parameter priors\n",
    "    \n",
    "    Parameters\n",
    "    ----------\n",
    "    xd : numpy 1d array\n",
    "        xd[0] = normalization; xd[1] = slope; xd[2] = scatter\n",
    "        \n",
    "    Returns\n",
    "    -------\n",
    "    numpy float\n",
    "        ln(prior)\n",
    "        \n",
    "    \"\"\"\n",
    "    if cmin <= xd[0] and xd[0] < cmax and smin <= xd[2] and xd[2] < smax:\n",
    "        return np.log(normfact/(1. + xd[0]**2)**1.5)\n",
    "    else:\n",
    "        return -300."
   ]
  },
  {
   "cell_type": "code",
   "execution_count": 11,
   "metadata": {},
   "outputs": [],
   "source": [
    "def linmodel_likelihood(p, x, sigx2, y, sigy2, sigxy):\n",
    "    \"\"\"\n",
    "    ln of linear model likelihood\n",
    "\n",
    "    Parameters:\n",
    "    -----------\n",
    "    p - real 1d numpy vector of size 3 \n",
    "        values of the model parameters, c, m, intrinsic scatter in y direction\n",
    "    x - real 1d numpy vector\n",
    "        x values of data, array size = number of data points ndata\n",
    "    sigx2 - real 1d numpy vector of size x\n",
    "        Gaussian variances of x\n",
    "    y - real 1d numpy vector\n",
    "        y values of data of the same size as x \n",
    "    sigy2 - real 1d numpy vector of size \n",
    "        Gaussian variances of y\n",
    "    sigxy - real 1d numpy vector of size \n",
    "        Gaussian covariances of x and y    \n",
    "\n",
    "    Returns:\n",
    "    --------\n",
    "\n",
    "    a real number \n",
    "        ln(Likelihood of linear model with intrinsic Gaussian scatter in y direction)\n",
    "    \"\"\"\n",
    "    \n",
    "    sigtot2 = sigy2 - 2.*p[1]*sigxy + p[1]**2*sigx2 + p[2]**2\n",
    "    # this step is not to allow sigtot2 to become negative which will make np.log of it below a nan (Not A Number)\n",
    "    sigtot2 = np.maximum(sigtot2, 1.6e-16)\n",
    "    \n",
    "    # 1/sqrt(2.*pi) factor can be omitted from the likelihood because it does not depend on model parameters\n",
    "    return np.sum(-0.5 * (np.log(sigtot2) + (y - p[0] - p[1]*x)**2 / sigtot2))"
   ]
  },
  {
   "cell_type": "code",
   "execution_count": 12,
   "metadata": {},
   "outputs": [],
   "source": [
    "def mlinmodel_posterior(p, x, sigx2, y, sigy2, sigxy):\n",
    "    \"\"\"\n",
    "    -ln of unnormalized posterior of the linear model \n",
    "    p - real 1d numpy vector of size 3 \n",
    "        values of the model parameters, c, m, intrinsic scatter in y direction\n",
    "    x - real 1d numpy vector\n",
    "        x values of data, array size = number of data points ndata\n",
    "    sigx2 - real 1d numpy vector of size x\n",
    "        Gaussian variances of x\n",
    "    y - real 1d numpy vector\n",
    "        y values of data of the same size as x \n",
    "    sigy2 - real 1d numpy vector of size \n",
    "        Gaussian variances of y\n",
    "    sigxy - real 1d numpy vector of size \n",
    "        Gaussian covariances of x and y    \n",
    "    Returns:\n",
    "    --------\n",
    "\n",
    "    a real number \n",
    "        ln(Likelihood of linear model with intrinsic Gaussian scatter in y direction)\n",
    "    \"\"\"\n",
    "    return -(linmodel_likelihood(p, x, sigx2, y, sigy2, sigxy) + prior(p))"
   ]
  },
  {
   "cell_type": "code",
   "execution_count": 13,
   "metadata": {},
   "outputs": [],
   "source": [
    "def vectorized_mcmc(x, nsteps=1, step=0.1, modelpdf = None, args = None):\n",
    "    \"\"\"\n",
    "    MCMC sampler implementing a simple Metropolis algorithm\n",
    "    to follow a number of chains (\"walkers\") in parallel\n",
    "    \n",
    "    This version also can sample distributions of arbitrary number of \n",
    "    dimensions ndim\n",
    "    \n",
    "    Parameters:\n",
    "    ------------\n",
    "    x0 - a real numpy array of size [nwalkers,ndim]\n",
    "        initial x value\n",
    "    nsteps - integer\n",
    "        number of MCMC steps (iterations) to take\n",
    "    step - float\n",
    "        step size controlling step proposal distribution\n",
    "    modelpdf - python function object\n",
    "        ln(pdf) where pdf is the target pdf to sample\n",
    "    args - pointer to a list\n",
    "        list of arguments to pass modelpdf\n",
    "        \n",
    "    Returns:\n",
    "    ---------\n",
    "    xchain - numpy array of size [nsteps*nwalkers, ndim]\n",
    "        coordinates of samples in the MCMC chains of size\n",
    "    pacc   - float\n",
    "        acceptance ratio of the MCMC steps (ratio of accepted to the total proposed number of steps)\n",
    "    \n",
    "    \"\"\"\n",
    "    \n",
    "    # the input array here contains initial values for multiple MCMC sequences\n",
    "    # or \"walkers\" in the MCMC jargon (because they \"walk\" the multi-d space of our target pdf)\n",
    "    nwalkers = np.shape(x)[0]\n",
    "    # make sure input is sensible\n",
    "    assert(nwalkers>0)\n",
    "    \n",
    "    # number of dimensions that we will be sampling\n",
    "    ndim = np.shape(x)[1]\n",
    "        \n",
    "    # initialize some auxiliary arrays and variables \n",
    "    chain = np.empty_like(x);\n",
    "\n",
    "    naccept = 0; ntry = 0; nchain = 0\n",
    "    # initialize arrays that will be used to hold pdf values of samples\n",
    "    # at old and proposed sample locations\n",
    "    gxold = np.empty(nwalkers)\n",
    "    gxtry = np.empty(nwalkers)\n",
    "    for i in range(nwalkers):\n",
    "        gxold[i] = modelpdf(x[i,:], *args)\n",
    "    \n",
    "    nsample = 0 \n",
    "    while nsample < nsteps:\n",
    "        # proposal step using uniform pdf in range [-step, step]\n",
    "        xtry  = x + step*np.random.uniform(-step, step, np.shape(x)) \n",
    "        for i in range(nwalkers):\n",
    "            gxtry[i] = modelpdf(xtry[i,:], *args) \n",
    "        gx = np.copy(gxold) \n",
    "        # compare pdf values at the old and proposed sample locations  \n",
    "        gr   = gxtry - gx\n",
    "        u = np.random.uniform(0.0,1.0,np.shape(x)[0])\n",
    "        # accept proposal with probability min[1.0, e^gr]\n",
    "        iacc = np.where(gr > np.log(u)) \n",
    "        # update those \"walkers\" for which proposal step was accepted \n",
    "        x[iacc,:] = xtry[iacc,:]\n",
    "        gxold[iacc] = gxtry[iacc]\n",
    "        naccept += np.size(gxtry[iacc])\n",
    "        # add all walkers to the chain, regardless of whether their proposal step was accepted\n",
    "        chain = np.vstack((chain, x))\n",
    "\n",
    "        nsample += 1\n",
    "        \n",
    "\n",
    "    return chain, 1.*naccept/(nsample*nwalkers)"
   ]
  },
  {
   "cell_type": "code",
   "execution_count": null,
   "metadata": {},
   "outputs": [],
   "source": [
    "pdf = mlinmodel_posterior(p, x, sigx2, y, sigy2, sigxy)"
   ]
  },
  {
   "cell_type": "code",
   "execution_count": null,
   "metadata": {},
   "outputs": [],
   "source": [
    "args = [0., 1.]\n",
    "\n",
    "ndim = 1\n",
    "nwalkers = 1000\n",
    "nsteps = 100\n",
    "step = 1.\n",
    "\n",
    "# initialize walkers in a uniform random distribution\n",
    "x0 = [0.5, 0.5, 24., 0.1, 3]\n",
    "\n",
    "tstart = default_timer()\n",
    "xchain1, pacc1 = vectorized_mcmc(x0, nsteps=nsteps, step=step, modelpdf = pdf, args=args)\n",
    "tend = default_timer()\n",
    "\n",
    "print(\"elapsed time = %.3g sec, acceptance ratio=%.3g\"%(tend-tstart, pacc1))"
   ]
  }
 ],
 "metadata": {
  "kernelspec": {
   "display_name": "Python 3",
   "language": "python",
   "name": "python3"
  },
  "language_info": {
   "codemirror_mode": {
    "name": "ipython",
    "version": 3
   },
   "file_extension": ".py",
   "mimetype": "text/x-python",
   "name": "python",
   "nbconvert_exporter": "python",
   "pygments_lexer": "ipython3",
   "version": "3.7.4"
  }
 },
 "nbformat": 4,
 "nbformat_minor": 2
}
