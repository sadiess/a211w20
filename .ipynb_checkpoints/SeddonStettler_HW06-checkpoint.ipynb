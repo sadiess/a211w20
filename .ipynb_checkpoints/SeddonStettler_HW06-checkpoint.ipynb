{
 "cells": [
  {
   "cell_type": "markdown",
   "metadata": {},
   "source": [
    "# ASTR 211 - HW06 Galaxy Classification - Sadie Seddon-Stettler"
   ]
  },
  {
   "cell_type": "code",
   "execution_count": 1,
   "metadata": {},
   "outputs": [],
   "source": [
    "%load_ext autoreload\n",
    "%autoreload 2\n",
    "%matplotlib inline\n",
    "\n",
    "import os\n",
    "import urllib\n",
    "import requests\n",
    "\n",
    "import numpy as np\n",
    "import matplotlib.pyplot as plt\n",
    "\n",
    "from codes.cosmology import d_l\n",
    "from codes.constants import clight\n",
    "\n",
    "from io import StringIO\n",
    "from io import BytesIO\n",
    "\n",
    "from PIL import Image\n",
    "\n",
    "fontsize=12\n",
    "plt.rc(\"savefig\", dpi=200)\n",
    "plt.rc('text', usetex=True)\n",
    "plt.rc('font', size=fontsize)\n",
    "plt.rc('xtick', direction='in') \n",
    "plt.rc('ytick', direction='in')\n",
    "plt.rc('xtick.major', pad=5) \n",
    "plt.rc('xtick.minor', pad=5)\n",
    "plt.rc('ytick.major', pad=5) \n",
    "plt.rc('ytick.minor', pad=5)"
   ]
  },
  {
   "cell_type": "code",
   "execution_count": 2,
   "metadata": {},
   "outputs": [],
   "source": [
    "def read_meert_catalog(phot_type=None, datadir=None):\n",
    "    \"\"\"Loader for the Meert et al. 2015 catalog of improved photometric measurements\n",
    "    for galaxies in the SDSS DR7 main galaxy catalog \n",
    "    input: phot_type - integer corresponding to the photometry model fit type from the catalog\n",
    "        1=best fit, 2=deVaucouleurs, 3=Sersic, 4=DeVExp, 5=SerExp\n",
    "    returns combined structured array with all the data\n",
    "    \"\"\"\n",
    "    from astropy.io import fits\n",
    "\n",
    "\n",
    "    if (phot_type < 1) or (phot_type > 5):\n",
    "        raise Exception('unsupported type of Meert et al. photometry: %d, choose number between 1 and 5')\n",
    "\n",
    "    # change datadir to the directory where UPenn catalog is located\n",
    "    datameertnonpar = datadir+r'\\Meert2015_v2\\UPenn_PhotDec_nonParam_rband.fits'\n",
    "    datameertnonparg = datadir+r'\\Meert2015_v2\\UPenn_PhotDec_nonParam_gband.fits'\n",
    "    datameert = datadir+r'\\Meert2015_v2\\UPenn_PhotDec_Models_rband.fits'\n",
    "    datasdss = datadir+r'\\Meert2015_v2\\UPenn_PhotDec_CAST.fits'\n",
    "    datasdssmodels = datadir+r'\\Meert2015_v2\\UPenn_PhotDec_CASTmodels.fits'\n",
    "    datameertg = datadir+r'\\Meert2015_v2\\UPenn_PhotDec_Models_gband.fits'\n",
    "    datamorph = datadir+r'\\Meert2015_v2\\UPenn_PhotDec_H2011.fits' # morphology probabilities from Huertas-Company et al. 2011\n",
    "\n",
    "    # mdata tables: 1=best fit, 2=deVaucouleurs, 3=Sersic, 4=DeVExp, 5=SerExp\n",
    "    mdata = fits.open(datameert)[phot_type].data\n",
    "    mdatag = fits.open(datameertg)[phot_type].data\n",
    "    mnpdata = fits.open(datameertnonpar)[1].data\n",
    "    mnpdatag = fits.open(datameertnonparg)[1].data\n",
    "    sdata = fits.open(datasdss)[1].data\n",
    "    phot_r = fits.open(datasdssmodels)[1].data\n",
    "    morph = fits.open(datamorph)[1].data\n",
    "\n",
    "    # eliminate galaxies with bad photometry\n",
    "    fflag = mdata['finalflag']\n",
    "    print(\"%d galaxies in Meert et al. sample initially\"%(np.size(fflag)))\n",
    "\n",
    "    def isset(flag, bit):\n",
    "        \"\"\"Return True if the specified bit is set in the given bit mask\"\"\"\n",
    "        return (flag & (1 << bit)) != 0\n",
    "        \n",
    "    # use minimal quality cuts and flags recommended by Alan Meert\n",
    "    igood = [(phot_r['petroMag'] > 0.) & (phot_r['petroMag'] < 100.) & (mnpdata['kcorr'] > 0) &\n",
    "             (mdata['m_tot'] > 0) & (mdata['m_tot'] < 100) &\n",
    "             (isset(fflag, 1) | isset(fflag, 4) | isset(fflag, 10) | isset(fflag, 14))]\n",
    "\n",
    "    sdata = sdata[igood]; phot_r = phot_r[igood]; mdata = mdata[igood]\n",
    "    mnpdata = mnpdata[igood]; mdatag = mdatag[igood]; mnpdatag = mnpdatag[igood]; morph = morph[igood]\n",
    "\n",
    "    return sdata, mdata, mnpdata, phot_r, mdatag, mnpdatag, morph"
   ]
  },
  {
   "cell_type": "code",
   "execution_count": null,
   "metadata": {},
   "outputs": [],
   "source": [
    "datadir = r'data/'\n",
    "meert_data = read_meert_catalog(phot_type=3, datadir=datadir)\n",
    "sdata, mdata, mnpdata, phot_r, mdatag, mnpdatag, morph = meert_data"
   ]
  }
 ],
 "metadata": {
  "kernelspec": {
   "display_name": "Python 3",
   "language": "python",
   "name": "python3"
  },
  "language_info": {
   "codemirror_mode": {
    "name": "ipython",
    "version": 3
   },
   "file_extension": ".py",
   "mimetype": "text/x-python",
   "name": "python",
   "nbconvert_exporter": "python",
   "pygments_lexer": "ipython3",
   "version": "3.7.4"
  }
 },
 "nbformat": 4,
 "nbformat_minor": 2
}
