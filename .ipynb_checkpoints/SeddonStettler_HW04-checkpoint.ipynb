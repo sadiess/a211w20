{
 "cells": [
  {
   "cell_type": "markdown",
   "metadata": {},
   "source": [
    "# ASTR 211 - HW04 - Sadie Seddon-Stettler"
   ]
  },
  {
   "cell_type": "code",
   "execution_count": 17,
   "metadata": {},
   "outputs": [],
   "source": [
    "import numpy as np\n",
    "\n",
    "import matplotlib.pyplot as plt\n",
    "%matplotlib inline\n",
    "\n",
    "from codes.plot_utils import plot_pretty\n",
    "plot_pretty(fontsize=12)\n",
    "\n",
    "from numpy import random as rnd\n",
    "\n",
    "from scipy.interpolate import UnivariateSpline"
   ]
  },
  {
   "cell_type": "markdown",
   "metadata": {},
   "source": [
    "## Task 1a"
   ]
  },
  {
   "cell_type": "code",
   "execution_count": 2,
   "metadata": {},
   "outputs": [
    {
     "name": "stdout",
     "output_type": "stream",
     "text": [
      "[9 9 6 2 4 7 8 7 3 7]\n",
      "[19  0  1  0  4  7 11 12  9 14  9 16  1 14  5 18  8 10  7 19]\n",
      "[13 25 25 13 20 10 24  7 14 21 14 13 23 29 20 12 14 12  8  7 19 13 19 16\n",
      " 15  0  0  1 11  1]\n"
     ]
    },
    {
     "name": "stderr",
     "output_type": "stream",
     "text": [
      "C:\\Users\\sadie\\Anaconda3\\lib\\site-packages\\ipykernel_launcher.py:1: DeprecationWarning: This function is deprecated. Please call randint(0, 9 + 1) instead\n",
      "  \"\"\"Entry point for launching an IPython kernel.\n",
      "C:\\Users\\sadie\\Anaconda3\\lib\\site-packages\\ipykernel_launcher.py:2: DeprecationWarning: This function is deprecated. Please call randint(0, 19 + 1) instead\n",
      "  \n",
      "C:\\Users\\sadie\\Anaconda3\\lib\\site-packages\\ipykernel_launcher.py:3: DeprecationWarning: This function is deprecated. Please call randint(0, 29 + 1) instead\n",
      "  This is separate from the ipykernel package so we can avoid doing imports until\n"
     ]
    }
   ],
   "source": [
    "irand10 = np.random.random_integers(low=0, high=9, size=10)\n",
    "irand20 = np.random.random_integers(low=0, high=19, size=20)\n",
    "irand30 = np.random.random_integers(low=0, high=29, size=30)\n",
    "\n",
    "print(irand10)\n",
    "print(irand20)\n",
    "print(irand30)"
   ]
  },
  {
   "cell_type": "markdown",
   "metadata": {},
   "source": [
    "The numbers do appear to be random, but they do repeat. This is fine for general purposes - true randomness, after all, does cluster. However, this means that the function should not be used to generate ir1, ir2, and ir3, as since the numbers do repeat the indices would not be guaranteed to be unique."
   ]
  },
  {
   "cell_type": "markdown",
   "metadata": {},
   "source": [
    "## Task 1b"
   ]
  },
  {
   "cell_type": "code",
   "execution_count": 3,
   "metadata": {},
   "outputs": [
    {
     "name": "stdout",
     "output_type": "stream",
     "text": [
      "[3. 0. 8. 1. 6. 4. 5. 9. 7. 2.]\n",
      "[5. 4. 6. 1. 8. 7. 9. 2. 0. 3.]\n",
      "[0. 6. 7. 9. 8. 4. 5. 3. 2. 1.]\n"
     ]
    }
   ],
   "source": [
    "ordered_ints = np.linspace(0, 9, num=10)\n",
    "\n",
    "perm = np.random.permutation(ordered_ints)\n",
    "print(perm)\n",
    "\n",
    "perm = np.random.permutation(ordered_ints)\n",
    "print(perm)\n",
    "\n",
    "perm = np.random.permutation(ordered_ints)\n",
    "print(perm)"
   ]
  },
  {
   "cell_type": "markdown",
   "metadata": {},
   "source": [
    "Running the function repeatedly on the same vector does, in fact, randomly shuffle the order of the vector elements. My algorithm for producing ir1, ir2, ir3 indices is:"
   ]
  },
  {
   "cell_type": "markdown",
   "metadata": {},
   "source": [
    "def produce_indices(n, i) #where n is the desired vector size and i is as used in the DE algorithm\n",
    "\n",
    "    ordered_ints = np.linspace(0, n, num=n)\n",
    "    perm = np.random.permutation(ordered_ints)\n",
    "    i_s = []\n",
    "    \n",
    "    for x in range(0, 3):\n",
    "        if perm[x] != i:\n",
    "            i_s.append(perm[x])\n",
    "            \n",
    "    ir1 = i_s[0]\n",
    "    ir2 = i_s[1]\n",
    "    ir3 = i_s[2]\n",
    "    \n",
    "    return ir1, ir2, ir3"
   ]
  },
  {
   "cell_type": "markdown",
   "metadata": {},
   "source": [
    "The significant advantage of this method over 1a is that numbers do not repeat, so you are never worried about having ir1 = ir2 = ir3."
   ]
  },
  {
   "cell_type": "markdown",
   "metadata": {},
   "source": [
    "## Task 1c"
   ]
  },
  {
   "cell_type": "markdown",
   "metadata": {},
   "source": [
    "I have chosen the Scott binning method, since that binning method assumes a gaussian distribution, and I have chosen a size of 10,000 simply by repeatedly plotting for various sizes and discovering that 10,000 is the lowest number that looks good."
   ]
  },
  {
   "cell_type": "code",
   "execution_count": 4,
   "metadata": {},
   "outputs": [
    {
     "data": {
      "image/png": "[encoded data removed]",
      "text/plain": [
       "<Figure size 432x288 with 1 Axes>"
      ]
     },
     "metadata": {
      "needs_background": "light"
     },
     "output_type": "display_data"
    }
   ],
   "source": [
    "xgauss = np.random.normal(loc=0, scale=10, size=10000)\n",
    "xhist = plt.hist(xgauss, bins='scott', density=True)\n",
    "def xfunc(x):\n",
    "    ex = -(x ** 2) / (2 * (10 ** 2))\n",
    "    frac = 1 / (np.sqrt(2 * np.pi) * 10)\n",
    "    return frac * np.exp(ex)\n",
    "\n",
    "x = np.linspace(-50,50,10000)\n",
    "plot = plt.plot(x, xfunc(x))\n",
    "\n",
    "plt.show()"
   ]
  },
  {
   "cell_type": "markdown",
   "metadata": {},
   "source": [
    "## Task 2a"
   ]
  },
  {
   "cell_type": "code",
   "execution_count": 2,
   "metadata": {},
   "outputs": [],
   "source": [
    "def pdf_gx(x, a = 2.0):\n",
    "    '''\n",
    "    normalized PDF g(x)\n",
    "    '''\n",
    "    c = 1 / ((2*np.sqrt(a)) - (2*np.sqrt(1/a)))\n",
    "    return c/np.sqrt(x)"
   ]
  },
  {
   "cell_type": "code",
   "execution_count": 3,
   "metadata": {},
   "outputs": [],
   "source": [
    "def invcdf_gx(y, a = 2.0):\n",
    "    \"\"\"\n",
    "    analytic inverse of the g(x) CDF\n",
    "    \"\"\"\n",
    "    c = 1 / ((2*np.sqrt(a)) - (2*np.sqrt(1/a)))\n",
    "    return ((y/(2*c))**2)"
   ]
  },
  {
   "cell_type": "code",
   "execution_count": 4,
   "metadata": {},
   "outputs": [],
   "source": [
    "def gdist(nrnd = 1, a = 2.0):\n",
    "    \"\"\"\n",
    "    function to sample distribution g(x) = 1/sqrt(x) for x in [1/a,a] and g(x)=0 otherwise.\n",
    "    \n",
    "    Parameters:\n",
    "    -----------\n",
    "    nrnd: integer (default is 1)\n",
    "        number of pseudo-random draws of g(x) to generate\n",
    "    a: real \n",
    "       parameter defining the range of the distribution (see above)\n",
    "       \n",
    "    Returns: \n",
    "    --------\n",
    "    a numpy real 1d vector of size nrnd\n",
    "    (pseudo-random numbers distributed with g(x), as defined above \n",
    "    \"\"\"\n",
    "    yrnd = rnd.uniform(size=nrnd)\n",
    "\n",
    "    xr = invcdf_gx(yrnd, a)\n",
    "    \n",
    "    return xr"
   ]
  },
  {
   "cell_type": "code",
   "execution_count": 57,
   "metadata": {},
   "outputs": [],
   "source": [
    "def plot_pdf(xr, func, label='inverse method', bins = 50, figsize=3):\n",
    "    plt.figure(figsize=(figsize, figsize))\n",
    "    plt.yscale('log')\n",
    "    \n",
    "    hist, bins, patches = plt.hist(xr, density='True', color='slateblue', bins=bins, label=label)\n",
    "    binc = 0.5*(bins[1:] + bins[:-1])\n",
    "    plt.plot(binc, func(binc), lw=0.8, c='orangered')\n",
    "    plt.ylabel(r'$g(x)$')\n",
    "    plt.xlabel(r'$x$')\n",
    "    plt.legend(loc='upper right', frameon=False)\n",
    "    \n",
    "    plt.show()"
   ]
  },
  {
   "cell_type": "code",
   "execution_count": 6,
   "metadata": {},
   "outputs": [],
   "source": [
    "xr = gdist(100000, 2)"
   ]
  },
  {
   "cell_type": "code",
   "execution_count": 7,
   "metadata": {},
   "outputs": [
    {
     "data": {
      "image/png": "[encoded data removed]",
      "text/plain": [
       "<Figure size 216x216 with 1 Axes>"
      ]
     },
     "metadata": {
      "needs_background": "light"
     },
     "output_type": "display_data"
    }
   ],
   "source": [
    "plot_pdf(xr, pdf_gx, label='inverse method', figsize=3)"
   ]
  },
  {
   "cell_type": "markdown",
   "metadata": {},
   "source": [
    "## Task 2b"
   ]
  },
  {
   "cell_type": "code",
   "execution_count": 24,
   "metadata": {},
   "outputs": [],
   "source": [
    "def pdf_exp(x, A = 1, a = 1.5, b = 1):\n",
    "    return A*(x**(-a))*np.exp(-x/b)"
   ]
  },
  {
   "cell_type": "code",
   "execution_count": 50,
   "metadata": {},
   "outputs": [],
   "source": [
    "def fdist(A, a, b, nrnd = 1):\n",
    "    rnd_vals = rnd.uniform(1e-4, 1e1, size=nrnd)\n",
    "    lin_vals = np.linspace(1e-4, 1e1, num=nrnd)\n",
    "    lin_y = pdf_exp(lin_vals, A, a, b)\n",
    "    lin_y = lin_y[::-1]\n",
    "    \n",
    "    spl = UnivariateSpline(lin_y, lin_vals, s=0.)\n",
    "    zr = spl(rnd_vals)\n",
    "    \n",
    "    return zr"
   ]
  },
  {
   "cell_type": "code",
   "execution_count": 51,
   "metadata": {},
   "outputs": [],
   "source": [
    "zr = fdist(1, 1.5, 1, 100000)"
   ]
  },
  {
   "cell_type": "code",
   "execution_count": 56,
   "metadata": {},
   "outputs": [
    {
     "data": {
      "image/png": "[encoded data removed]",
      "text/plain": [
       "<Figure size 525x525 with 1 Axes>"
      ]
     },
     "metadata": {
      "needs_background": "light"
     },
     "output_type": "display_data"
    }
   ],
   "source": [
    "plot_pdf(zr, pdf_exp, label='inverse method', figsize=3)"
   ]
  },
  {
   "cell_type": "code",
   "execution_count": null,
   "metadata": {},
   "outputs": [],
   "source": []
  }
 ],
 "metadata": {
  "kernelspec": {
   "display_name": "Python 3",
   "language": "python",
   "name": "python3"
  },
  "language_info": {
   "codemirror_mode": {
    "name": "ipython",
    "version": 3
   },
   "file_extension": ".py",
   "mimetype": "text/x-python",
   "name": "python",
   "nbconvert_exporter": "python",
   "pygments_lexer": "ipython3",
   "version": "3.7.4"
  }
 },
 "nbformat": 4,
 "nbformat_minor": 2
}
