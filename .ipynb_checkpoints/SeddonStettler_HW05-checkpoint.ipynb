{
 "cells": [
  {
   "cell_type": "markdown",
   "metadata": {},
   "source": [
    "# ASTR 211 - HW05 - Sadie Seddon-Stettler"
   ]
  },
  {
   "cell_type": "code",
   "execution_count": 1,
   "metadata": {},
   "outputs": [],
   "source": [
    "import numpy as np\n",
    "\n",
    "import matplotlib.pyplot as plt\n",
    "%matplotlib inline\n",
    "\n",
    "from codes.cosmology import d_L_vectorized\n",
    "from codes.constants import clight\n",
    "from codes.plot_utils import plot_pretty, plot_2d_dist\n",
    "plot_pretty(fontsize=12)\n",
    "\n",
    "from scipy.special import gamma\n",
    "from scipy.interpolate import RectBivariateSpline\n",
    "from scipy.optimize import minimize, differential_evolution\n",
    "\n",
    "from timeit import default_timer"
   ]
  },
  {
   "cell_type": "code",
   "execution_count": 16,
   "metadata": {},
   "outputs": [
    {
     "name": "stdout",
     "output_type": "stream",
     "text": [
      "read sample of 740 supernovae...\n"
     ]
    }
   ],
   "source": [
    "zCMB, mB, emB, x1, ex1, csn, ecsn = np.loadtxt('data/jla_lcparams.txt', \n",
    "                                               usecols=(1, 4, 5, 6, 7, 8, 9), unpack=True)\n",
    "\n",
    "print(\"read sample of %d supernovae...\"%(np.size(zCMB)))"
   ]
  },
  {
   "cell_type": "markdown",
   "metadata": {},
   "source": [
    "## Task 1a"
   ]
  },
  {
   "cell_type": "code",
   "execution_count": 3,
   "metadata": {},
   "outputs": [
    {
     "name": "stdout",
     "output_type": "stream",
     "text": [
      "finished in 38.6 sec\n"
     ]
    }
   ],
   "source": [
    "Om0min, Om0max = 0., 1.\n",
    "OmLmin, OmLmax = 0., 1.\n",
    "\n",
    "nOm0 = 13; nOmL = 9\n",
    "Om0tr = Om0min + (Om0max-Om0min) * np.linspace(0.,1.,nOm0)**2 # square-law \n",
    "OmLtr = OmLmin + (OmLmax-OmLmin) * (1.- np.linspace(0.,1.,nOmL)**1.75)\n",
    "# the values of OmLtr are in descending order, so reverse the order before use\n",
    "OmLtr = OmLtr[::-1]\n",
    "\n",
    "nSN = np.size(zCMB)\n",
    "\n",
    "dLgrid = np.zeros((nSN, nOm0, nOmL))\n",
    "H0 = 70.\n",
    "H0c = H0 / clight\n",
    "\n",
    "tstart = default_timer()\n",
    "atol = 5.e-16; rtol = 5e-16\n",
    "for i, Omd in enumerate(Om0tr):\n",
    "    for j, Omld in enumerate(OmLtr):\n",
    "        # cancel the c/H0 factor to tabulate d_L without it\n",
    "        dLgrid[:,i,j] = H0c * d_L_vectorized(zCMB, H0, Omd, Omld, atol=atol, rtol=rtol)\n",
    "\n",
    "print(\"finished in %.3g sec\"%(default_timer()-tstart))"
   ]
  },
  {
   "cell_type": "code",
   "execution_count": 4,
   "metadata": {},
   "outputs": [
    {
     "name": "stdout",
     "output_type": "stream",
     "text": [
      "finished in 0.117 sec\n"
     ]
    }
   ],
   "source": [
    "dLz = []\n",
    "tstart = default_timer()\n",
    "for iz, zi in enumerate(zCMB):\n",
    "    #construct approximation for tilde(d)_L(z_i, Om0, OmL)\n",
    "    spl2d = RectBivariateSpline(Om0tr, OmLtr, dLgrid[iz], s=0, kx=3, ky=3)\n",
    "    dLz.append(spl2d)\n",
    "\n",
    "print(\"finished in %.3g sec\"%(default_timer()-tstart))\n",
    "dLz = np.asarray(dLz)"
   ]
  },
  {
   "cell_type": "code",
   "execution_count": 5,
   "metadata": {},
   "outputs": [],
   "source": [
    "def chi2(x):\n",
    "    mu_model = np.zeros(nSN)\n",
    "    for i in range(nSN): \n",
    "        mu_model[i] = 5.*np.log10(dLz[i](x[0], x[1])) \n",
    "\n",
    "    delta_mu_2 = (mB - (mu_model + x[2]) + x[3]*x1 - x[4]*csn)**2\n",
    "    sig_2 = (emB**2) + (x[3]**2)*(ex1**2) + (x[4]**2)*(ecsn**2)\n",
    "    return np.sum(delta_mu_2/sig_2)"
   ]
  },
  {
   "cell_type": "code",
   "execution_count": 6,
   "metadata": {},
   "outputs": [],
   "source": [
    "def ln_L(x):\n",
    "    chi_2 = chi2(x)\n",
    "    sig_2 = (emB**2) + (x[3]**2)*(ex1**2) + (x[4]**2)*(ecsn**2)\n",
    "    ln = np.sum(np.log(2*np.pi*sig_2))\n",
    "    return (-1/2)*(chi_2 + ln)"
   ]
  },
  {
   "cell_type": "code",
   "execution_count": 7,
   "metadata": {},
   "outputs": [],
   "source": [
    "def neg_2_lnL(x):\n",
    "    return -2*ln_L(x)"
   ]
  },
  {
   "cell_type": "markdown",
   "metadata": {},
   "source": [
    "## Task 1b"
   ]
  },
  {
   "cell_type": "code",
   "execution_count": 8,
   "metadata": {},
   "outputs": [
    {
     "name": "stdout",
     "output_type": "stream",
     "text": [
      "completed in 20 sec\n",
      "minimum at : [ 0.25752847  0.63501711 24.07862629  0.11942688  2.57935345]\n",
      "-2lnL min = 3.3830e+02\n"
     ]
    }
   ],
   "source": [
    "tstart = default_timer()\n",
    "b = [(0, 1), (0, 1), (20, 28), (0.05, 0.3), (1., 5.)]\n",
    "res = differential_evolution(neg_2_lnL, bounds=b)\n",
    "print(\"completed in %.3g sec\"%(default_timer() - tstart))\n",
    "print(\"minimum at :\",res.x)\n",
    "\n",
    "ln_Lmin = ln_L(res.x)\n",
    "print(\"-2lnL min = %.4e\"%ln_Lmin)"
   ]
  },
  {
   "cell_type": "markdown",
   "metadata": {},
   "source": [
    "Previously, our derived value for Omega0 was 0.394, and our tM0 value was 24.1. These are both very similar to the new values (of 0.257 and 24.07 respectively). However, our new Omega0 is 0.635, quite different from our previously derived value of 0.363."
   ]
  },
  {
   "cell_type": "markdown",
   "metadata": {},
   "source": [
    "## Task 1c"
   ]
  },
  {
   "cell_type": "code",
   "execution_count": 9,
   "metadata": {},
   "outputs": [
    {
     "name": "stdout",
     "output_type": "stream",
     "text": [
      "reduced chi2 = 0.9316979440494364\n"
     ]
    }
   ],
   "source": [
    "x = [0.25752049, 0.63500829, 24.07862607, 0.11942735, 2.57935899]\n",
    "red_chi2 = chi2(x) / (nSN - 3)\n",
    "print(\"reduced chi2 =\", red_chi2)"
   ]
  },
  {
   "cell_type": "markdown",
   "metadata": {},
   "source": [
    "Since this $chi^2$ value is very close to 1, this suggests that our model describes the supernova measurements well - almost to the point of overfitting (if it were below 0.8, I would start to worry about overfitting), but not there. The $chi^2$ value of our previous model was around 6, so this suggests that the 5-parameter model describes the measurements much better than the 3-parameter model."
   ]
  },
  {
   "cell_type": "markdown",
   "metadata": {},
   "source": [
    "## Task 1d"
   ]
  },
  {
   "cell_type": "code",
   "execution_count": 10,
   "metadata": {},
   "outputs": [],
   "source": [
    "def ln_prior_pdf(x, args = None):\n",
    "    px0, px1, px2, px3, px4 = (0, 0, 0, 0, 0)\n",
    "    if 0 <= x[0] <= 1:\n",
    "        px0 = 1\n",
    "    if 0 <= x[1] <= 1:\n",
    "        px1 = 1\n",
    "    if 20 <= x[2] <= 28:\n",
    "        px2 = .125\n",
    "    if 0.05 <= x[3] <= 0.3:\n",
    "        px3 = 4\n",
    "    if 1 <= x[4] <= 5:\n",
    "        px4 = .25\n",
    "    if px0*px1*px2*px3*px4 == 0:\n",
    "        return -3000\n",
    "    else:\n",
    "        return np.log(px0*px1*px2*px3*px4)\n",
    "\n",
    "def posterior_pdf(x, args = None):\n",
    "    return ln_prior_pdf(x) + ln_L(x)\n",
    "\n",
    "def neg_post_pdf(x):\n",
    "    return posterior_pdf(x)*(-1)"
   ]
  },
  {
   "cell_type": "code",
   "execution_count": 11,
   "metadata": {},
   "outputs": [],
   "source": [
    "def vectorized_mcmc(x, nsteps=1, step=0.1, modelpdf = None, args = None):\n",
    "    \"\"\"\n",
    "    MCMC sampler implementing a simple Metropolis algorithm\n",
    "    to follow a number of chains (\"walkers\") in parallel\n",
    "    \n",
    "    This version also can sample distributions of arbitrary number of \n",
    "    dimensions ndim\n",
    "    \n",
    "    Parameters:\n",
    "    ------------\n",
    "    x0 - a real numpy array of size [nwalkers,ndim]\n",
    "        initial x value\n",
    "    nsteps - integer\n",
    "        number of MCMC steps (iterations) to take\n",
    "    step - float\n",
    "        step size controlling step proposal distribution\n",
    "    modelpdf - python function object\n",
    "        ln(pdf) where pdf is the target pdf to sample\n",
    "    args - pointer to a list\n",
    "        list of arguments to pass modelpdf\n",
    "        \n",
    "    Returns:\n",
    "    ---------\n",
    "    xchain - numpy array of size [nsteps*nwalkers, ndim]\n",
    "        coordinates of samples in the MCMC chains of size\n",
    "    pacc   - float\n",
    "        acceptance ratio of the MCMC steps (ratio of accepted to the total proposed number of steps)\n",
    "    \n",
    "    \"\"\"\n",
    "    \n",
    "    # the input array here contains initial values for multiple MCMC sequences\n",
    "    # or \"walkers\" in the MCMC jargon (because they \"walk\" the multi-d space of our target pdf)\n",
    "    nwalkers = np.shape(x)[0]\n",
    "    # make sure input is sensible\n",
    "    assert(nwalkers>0)\n",
    "    \n",
    "    # number of dimensions that we will be sampling\n",
    "    ndim = np.shape(x)[1]\n",
    "        \n",
    "    # initialize some auxiliary arrays and variables \n",
    "    chain = x;\n",
    "\n",
    "    naccept = 0; ntry = 0; nchain = 0\n",
    "    # initialize arrays that will be used to hold pdf values of samples\n",
    "    # at old and proposed sample locations\n",
    "    gxold = np.empty(nwalkers)\n",
    "    gxtry = np.empty(nwalkers)\n",
    "    for i in range(nwalkers):\n",
    "        gxold[i] = modelpdf(x[i,:], *args)\n",
    "    eps = 2.e-16\n",
    "    \n",
    "    nsample = 0 \n",
    "    while nsample < nsteps:\n",
    "        # proposal step using uniform pdf in range [-step, step]\n",
    "        xtry  = x + step*np.random.uniform(-step, step, np.shape(x)) \n",
    "        for i in range(nwalkers):\n",
    "            gxtry[i] = modelpdf(xtry[i,:], *args) \n",
    "        gx = np.copy(gxold) \n",
    "        # compare pdf values at the old and proposed sample locations  \n",
    "        gr   = gxtry - gx\n",
    "        u = np.random.uniform(eps,1.0,np.shape(x)[0])\n",
    "        # accept proposal with probability min[1.0, e^gr]\n",
    "        iacc = np.where(gr > np.log(u))\n",
    "        # update those \"walkers\" for which proposal step was accepted \n",
    "        x[iacc,:] = xtry[iacc,:]\n",
    "        gxold[iacc] = gxtry[iacc]\n",
    "        naccept += np.size(gxtry[iacc])\n",
    "        # add all walkers to the chain, regardless of whether their proposal step was accepted\n",
    "        chain = np.vstack((chain, x))\n",
    "        nsample += 1\n",
    "\n",
    "    return chain, 1.*naccept/(nsample*nwalkers)"
   ]
  },
  {
   "cell_type": "code",
   "execution_count": 12,
   "metadata": {},
   "outputs": [
    {
     "name": "stdout",
     "output_type": "stream",
     "text": [
      "     fun: -336.22024560994583\n",
      "     jac: array([-2.48974175e-03,  9.09494702e-05, -3.31965566e-03, -1.44382284e-03,\n",
      "       -7.95807864e-05])\n",
      " message: 'Optimization terminated successfully.'\n",
      "    nfev: 1818\n",
      "     nit: 21\n",
      " success: True\n",
      "       x: array([ 0.25750537,  0.63498684, 24.07862734,  0.11942718,  2.57935885])\n"
     ]
    }
   ],
   "source": [
    "snbounds=[(0,1), (0,1), (20, 28), (0.05, 0.3), (1, 5)]\n",
    "\n",
    "x0 = differential_evolution(neg_post_pdf, bounds=snbounds)\n",
    "\n",
    "print(x0)"
   ]
  },
  {
   "cell_type": "code",
   "execution_count": 29,
   "metadata": {},
   "outputs": [
    {
     "name": "stdout",
     "output_type": "stream",
     "text": [
      "elapsed time = 90.6 sec, acceptance ratio=0.483\n"
     ]
    }
   ],
   "source": [
    "ndim = 5\n",
    "nwalkers = 10\n",
    "nsteps = 1000\n",
    "step = 0.1\n",
    "args0 = []\n",
    "\n",
    "#differential evolution yielded [ 0.25747937,  0.63495553, 24.07862841,  0.11942547,  2.5793592 ]\n",
    "x0 = np.zeros((nwalkers, ndim))\n",
    "for i in range(nwalkers):\n",
    "    x0[i][0] = np.random.normal(0,scale=.01) + 0.25747937\n",
    "    x0[i][1] = np.random.normal(0,scale=.01) + 0.63495553\n",
    "    x0[i][2] = np.random.normal(0,scale=1) + 24.07862841\n",
    "    x0[i][3] = np.random.normal(0,scale=0.01) + 0.11942547\n",
    "    x0[i][4] = np.random.normal(0,scale=0.1) + 2.5793592\n",
    "\n",
    "tstart = default_timer()\n",
    "\n",
    "xchain, pacc0 = vectorized_mcmc(x0, nsteps=nsteps, step=step, modelpdf = posterior_pdf, args = args0 )\n",
    "\n",
    "tend = default_timer()\n",
    "\n",
    "print(\"elapsed time = %.3g sec, acceptance ratio=%.3g\"%(tend-tstart, pacc0))"
   ]
  },
  {
   "cell_type": "code",
   "execution_count": 32,
   "metadata": {},
   "outputs": [
    {
     "name": "stdout",
     "output_type": "stream",
     "text": [
      "0.2512774524422208 0.24485301188967656 0.47510543963332447\n",
      "0.6211102981179804 0.6206786829872651 0.9998679166971957\n"
     ]
    }
   ],
   "source": [
    "x_1 = xchain[:,0]; x_2 = xchain[:,1]\n",
    "\n",
    "print(np.median(x_1), np.mean(x_1), np.max(x_1))\n",
    "print(np.median(x_2), np.mean(x_2), np.max(x_2))"
   ]
  },
  {
   "cell_type": "code",
   "execution_count": 31,
   "metadata": {},
   "outputs": [
    {
     "data": {
      "image/png": "[encoded data removed]",
      "text/plain": [
       "<Figure size 504x504 with 1 Axes>"
      ]
     },
     "metadata": {
      "needs_background": "light"
     },
     "output_type": "display_data"
    }
   ],
   "source": [
    "conflevs = [0.6827, 0.9545]\n",
    "\n",
    "plot_2d_dist(x_1, x_2, xlim=[0,1], ylim =[0,1], nxbins=200, nybins=200, \n",
    "             clevs=conflevs, smooth=4, xlabel='$Om_0$', ylabel='$Om_L$', figsize=(7,7))"
   ]
  },
  {
   "cell_type": "markdown",
   "metadata": {},
   "source": [
    "## Task 1e"
   ]
  },
  {
   "cell_type": "code",
   "execution_count": 13,
   "metadata": {},
   "outputs": [],
   "source": [
    "def auto_corr_func(timeseries, lagmax):\n",
    "    \"\"\"\n",
    "    compute auto correlation function\n",
    "    \"\"\"\n",
    "    ts = np.asarray(timeseries)\n",
    "    N = np.size(ts) - 1\n",
    "    ts -= np.average(ts) # Set to mean 0\n",
    "    corr_func = np.zeros(lagmax)\n",
    "    for dt in range(lagmax):\n",
    "        # sum of ts[t+dt]*ts[t]\n",
    "        corr_func[dt] = (np.dot(timeseries[0:N-dt],timeseries[dt:N])) \n",
    "    if (corr_func[0]>0):\n",
    "        corr_func /= corr_func[0] # normalize\n",
    "    return corr_func\n",
    "\n",
    "def compute_tcorr(timeseries,maxcorr):\n",
    "    \"\"\"\n",
    "    compute auto-correlation time\n",
    "    Parameters:\n",
    "    -----------\n",
    "    \n",
    "    timeseries: 1d vector of values\n",
    "    maxcorr: maximum autocorrelation lag to consider\n",
    "    \n",
    "    Returns:\n",
    "    tau, mean, sigma: float scalars\n",
    "        autocorrelation time, mean of the sequence and its rms \n",
    "    \"\"\"\n",
    "    timeseries = np.copy(timeseries)\n",
    "    mean = np.average(timeseries)\n",
    "    corrfxn = auto_corr_func(timeseries,maxcorr)\n",
    "    tau = np.sum(corrfxn)-1\n",
    "    var = np.var(timeseries)\n",
    "    sigma = np.sqrt(var * tau / len(timeseries))\n",
    "    return tau, mean, sigma"
   ]
  },
  {
   "cell_type": "code",
   "execution_count": 14,
   "metadata": {},
   "outputs": [],
   "source": [
    "ndim = 5\n",
    "nwalkers = 100\n",
    "nsteps = 1000\n",
    "step = 1.\n",
    "args0 = []\n",
    "\n",
    "#differential evolution yielded [ 0.25747937,  0.63495553, 24.07862841,  0.11942547,  2.5793592 ]\n",
    "x0 = np.zeros((ndim, nwalkers))\n",
    "for i in range(nwalkers):\n",
    "    x0[0][i] = np.random.normal(0,1) + 0.25747937\n",
    "    x0[1][i] = np.random.normal(0,1) + 0.63495553\n",
    "    x0[2][i] = np.random.normal(0,1) + 24.07862841\n",
    "    x0[3][i] = np.random.normal(0,1) + 0.11942547\n",
    "    x0[4][i] = np.random.normal(0,1) + 2.5793592\n",
    "\n",
    "step = 1.\n",
    "chain1, pacc1 = vectorized_mcmc(x0, nsteps=nsteps, step=step, modelpdf = posterior_pdf, args = args0 )\n",
    "step = 0.1\n",
    "chain01, pacc01 = vectorized_mcmc(x0, nsteps=nsteps, step=step, modelpdf = posterior_pdf, args = args0 )\n",
    "step = 10.\n",
    "chain10, pacc10 = vectorized_mcmc(x0, nsteps=nsteps, step=step, modelpdf = posterior_pdf, args = args0 )\n",
    "\n",
    "chain1 = np.array(chain1).flatten()\n",
    "chain01 = np.array(chain01).flatten()\n",
    "chain10 = np.array(chain10).flatten()"
   ]
  },
  {
   "cell_type": "code",
   "execution_count": 15,
   "metadata": {},
   "outputs": [
    {
     "name": "stdout",
     "output_type": "stream",
     "text": [
      "0.1054\n",
      "0.7462\n",
      "0.0\n"
     ]
    }
   ],
   "source": [
    "print(pacc1)\n",
    "print(pacc01)\n",
    "print(pacc10)"
   ]
  },
  {
   "cell_type": "code",
   "execution_count": 16,
   "metadata": {},
   "outputs": [
    {
     "name": "stdout",
     "output_type": "stream",
     "text": [
      "CHAIN 1\n",
      "53000\n",
      "500500\n",
      "CHAIN 01\n",
      "373200\n",
      "500500\n",
      "CHAIN 10\n",
      "500\n",
      "500500\n"
     ]
    }
   ],
   "source": [
    "print(\"CHAIN 1\")\n",
    "print(np.size(np.unique(np.array(chain1))))\n",
    "print(np.size(chain1))\n",
    "print('CHAIN 01')\n",
    "print(np.size(np.unique(np.array(chain01))))\n",
    "print(np.size(chain01))\n",
    "print(\"CHAIN 10\")\n",
    "print(np.size(np.unique(np.array(chain10))))\n",
    "print(np.size(chain10))"
   ]
  },
  {
   "cell_type": "code",
   "execution_count": 17,
   "metadata": {},
   "outputs": [
    {
     "name": "stdout",
     "output_type": "stream",
     "text": [
      "s=0.1: auto-correlation time -0.987\n",
      "s=1: auto-correlation time -0.999\n",
      "s=10: auto-correlation time -0.999\n"
     ]
    },
    {
     "name": "stderr",
     "output_type": "stream",
     "text": [
      "C:\\Users\\sadie\\Anaconda3\\lib\\site-packages\\ipykernel_launcher.py:34: RuntimeWarning: invalid value encountered in sqrt\n"
     ]
    }
   ],
   "source": [
    "maxlag = 1000\n",
    "tcorr1, mean1, sig1 = compute_tcorr(chain1,maxlag)\n",
    "tcorr01, mean01, sig01  = compute_tcorr(chain01,maxlag)\n",
    "tcorr10, mean10, sig10 = compute_tcorr(chain10,maxlag)\n",
    "print(\"s=0.1: auto-correlation time %.3g\"%tcorr1)\n",
    "print(\"s=1: auto-correlation time %.3g\"%tcorr01)\n",
    "print(\"s=10: auto-correlation time %.3g\"%tcorr10)"
   ]
  },
  {
   "cell_type": "code",
   "execution_count": null,
   "metadata": {},
   "outputs": [],
   "source": []
  }
 ],
 "metadata": {
  "kernelspec": {
   "display_name": "Python 3",
   "language": "python",
   "name": "python3"
  },
  "language_info": {
   "codemirror_mode": {
    "name": "ipython",
    "version": 3
   },
   "file_extension": ".py",
   "mimetype": "text/x-python",
   "name": "python",
   "nbconvert_exporter": "python",
   "pygments_lexer": "ipython3",
   "version": "3.7.4"
  }
 },
 "nbformat": 4,
 "nbformat_minor": 2
}
